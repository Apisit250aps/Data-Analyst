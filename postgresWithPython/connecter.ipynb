{
 "cells": [
  {
   "cell_type": "markdown",
   "metadata": {},
   "source": [
    "<style>\n",
    "h1{\n",
    "    color:red;\n",
    "}\n",
    "</style>"
   ]
  },
  {
   "cell_type": "markdown",
   "metadata": {},
   "source": [
    "# postgresQL Server with Python\n",
    "\n",
    "## Library\n",
    "\n",
    "```\n",
    "pip install psycopg2\n",
    "pip install pandas\n",
    "```\n",
    "\n",
    "---\n",
    "## Connect postgresQL Server"
   ]
  },
  {
   "cell_type": "code",
   "execution_count": 9,
   "metadata": {},
   "outputs": [],
   "source": [
    "import psycopg2\n",
    "import pandas as pd\n",
    "import json\n",
    "db = {\n",
    "    \"database\":\"lavadurian_db2\",\n",
    "    \"host\":\"127.0.0.1\",\n",
    "    \"user\":\"postgres\",\n",
    "    \"password\":\"apisit250\",\n",
    "    \"port\":\"5432\"\n",
    "}\n",
    "con = psycopg2.connect(**db)\n",
    "cur = con.cursor()"
   ]
  },
  {
   "cell_type": "markdown",
   "metadata": {},
   "source": [
    "## Query Data and make DataFrame"
   ]
  },
  {
   "cell_type": "code",
   "execution_count": 10,
   "metadata": {},
   "outputs": [],
   "source": [
    "table = 'store_product'\n",
    "col =  \"SELECT COLUMN_NAME FROM INFORMATION_SCHEMA.COLUMNS WHERE TABLE_NAME = '{0}' ORDER BY ORDINAL_POSITION;\".format(table)\n",
    "cur.execute(col)\n",
    "columns_1 = ['product_'+i[0] for i in cur.fetchall()]\n",
    "\n",
    "col =  \"SELECT COLUMN_NAME FROM INFORMATION_SCHEMA.COLUMNS WHERE TABLE_NAME = '{0}' ORDER BY ORDINAL_POSITION;\".format('store_store')\n",
    "cur.execute(col)\n",
    "columns_2 = ['store_'+i[0] for i in cur.fetchall()]\n",
    "\n",
    "# Table Query\n",
    "query = \"SELECT * FROM {0} INNER JOIN store_store ON store_product.store_id = store_store.id\".format(table)\n",
    "cur.execute(query)\n",
    "# DataFrame\n",
    "store_product = pd.DataFrame(cur.fetchall(), columns=columns_1+columns_2)"
   ]
  },
  {
   "cell_type": "markdown",
   "metadata": {},
   "source": [
    "## Writer Excel files"
   ]
  },
  {
   "cell_type": "code",
   "execution_count": 11,
   "metadata": {},
   "outputs": [],
   "source": [
    "with pd.ExcelWriter('store_product.xlsx') as writer:\n",
    "    store_product['product_date_created'] = store_product['product_date_created'].dt.tz_localize(None)\n",
    "    store_product['product_date_update'] = store_product['product_date_update'].dt.tz_localize(None)\n",
    "    store_product['store_date_created'] = store_product['store_date_created'].dt.tz_localize(None)\n",
    "    store_product.to_excel(writer, sheet_name='store_product', index=None)"
   ]
  },
  {
   "cell_type": "markdown",
   "metadata": {},
   "source": [
    "# Dump Data to JSON files"
   ]
  },
  {
   "cell_type": "code",
   "execution_count": 12,
   "metadata": {},
   "outputs": [],
   "source": [
    "# json_data = store_product.to_json(orient=\"records\", force_ascii=False)\n",
    "with open(\"store_product.json\", \"w\", encoding='utf8') as file:\n",
    "    json_data = store_product.to_json(orient=\"records\")\n",
    "    json.dump(json.loads(json_data), file, ensure_ascii=False)\n"
   ]
  }
 ],
 "metadata": {
  "kernelspec": {
   "display_name": "Python 3",
   "language": "python",
   "name": "python3"
  },
  "language_info": {
   "codemirror_mode": {
    "name": "ipython",
    "version": 3
   },
   "file_extension": ".py",
   "mimetype": "text/x-python",
   "name": "python",
   "nbconvert_exporter": "python",
   "pygments_lexer": "ipython3",
   "version": "3.11.5"
  }
 },
 "nbformat": 4,
 "nbformat_minor": 2
}
